{
  "nbformat": 4,
  "nbformat_minor": 0,
  "metadata": {
    "colab": {
      "provenance": [],
      "authorship_tag": "ABX9TyOvF7DSFAaB4aTlYX95SIWg",
      "include_colab_link": true
    },
    "kernelspec": {
      "name": "python3",
      "display_name": "Python 3"
    },
    "language_info": {
      "name": "python"
    }
  },
  "cells": [
    {
      "cell_type": "markdown",
      "metadata": {
        "id": "view-in-github",
        "colab_type": "text"
      },
      "source": [
        "<a href=\"https://colab.research.google.com/github/sathizz7/Image-Classification/blob/main/Image_Classf.ipynb\" target=\"_parent\"><img src=\"https://colab.research.google.com/assets/colab-badge.svg\" alt=\"Open In Colab\"/></a>"
      ]
    },
    {
      "cell_type": "markdown",
      "source": [
        "#Image Classification using ANN and CNN"
      ],
      "metadata": {
        "id": "lqy7Oc1YkeSS"
      }
    },
    {
      "cell_type": "markdown",
      "source": [
        "Import Required Libraries"
      ],
      "metadata": {
        "id": "pUrjpPfAj43A"
      }
    },
    {
      "cell_type": "code",
      "execution_count": null,
      "metadata": {
        "id": "5We-DIKwGuLh"
      },
      "outputs": [],
      "source": [
        "import tensorflow as tf\n",
        "from tensorflow.keras import datasets, layers , models\n",
        "import matplotlib.pyplot as plt\n",
        "import numpy as np"
      ]
    },
    {
      "cell_type": "markdown",
      "source": [
        "#Load Dataset"
      ],
      "metadata": {
        "id": "RnlmBRLAVbbi"
      }
    },
    {
      "cell_type": "markdown",
      "source": [
        "This Datset is available in tensorflow.kers import datasets, so we can load it from There"
      ],
      "metadata": {
        "id": "VDhzU7S2Lm8w"
      }
    },
    {
      "cell_type": "code",
      "source": [
        "(Xtrain, ytrain) , (Xtest, ytest) = datasets.cifar10.load_data()"
      ],
      "metadata": {
        "colab": {
          "base_uri": "https://localhost:8080/"
        },
        "id": "6UpZgEsBVdB6",
        "outputId": "5278562d-7902-429c-cc77-f8963335848b"
      },
      "execution_count": null,
      "outputs": [
        {
          "output_type": "stream",
          "name": "stdout",
          "text": [
            "Downloading data from https://www.cs.toronto.edu/~kriz/cifar-10-python.tar.gz\n",
            "170498071/170498071 [==============================] - 2s 0us/step\n"
          ]
        }
      ]
    },
    {
      "cell_type": "code",
      "source": [
        "print(Xtrain.shape)"
      ],
      "metadata": {
        "colab": {
          "base_uri": "https://localhost:8080/"
        },
        "id": "mhCn4gYLWPAz",
        "outputId": "f3757719-0046-4876-efcd-75b3f7d73c34"
      },
      "execution_count": null,
      "outputs": [
        {
          "output_type": "execute_result",
          "data": {
            "text/plain": [
              "(50000, 32, 32, 3)"
            ]
          },
          "metadata": {},
          "execution_count": 6
        }
      ]
    },
    {
      "cell_type": "code",
      "source": [
        "print(ytrain.shape)"
      ],
      "metadata": {
        "colab": {
          "base_uri": "https://localhost:8080/"
        },
        "id": "Deqn47knWrHy",
        "outputId": "0e3c6ee0-1d52-4516-c094-6baea1d6642d"
      },
      "execution_count": null,
      "outputs": [
        {
          "output_type": "execute_result",
          "data": {
            "text/plain": [
              "(50000, 1)"
            ]
          },
          "metadata": {},
          "execution_count": 7
        }
      ]
    },
    {
      "cell_type": "markdown",
      "source": [
        "Here we see there are 50000 training images and 1000 test images"
      ],
      "metadata": {
        "id": "kGCTS3u0YuKo"
      }
    },
    {
      "cell_type": "code",
      "source": [
        "ytrain[:5]"
      ],
      "metadata": {
        "colab": {
          "base_uri": "https://localhost:8080/"
        },
        "id": "ejW8M2V-Yo1j",
        "outputId": "499cdfb6-4352-4e9d-a81b-f9ab0de23132"
      },
      "execution_count": null,
      "outputs": [
        {
          "output_type": "execute_result",
          "data": {
            "text/plain": [
              "array([[6],\n",
              "       [9],\n",
              "       [9],\n",
              "       [4],\n",
              "       [1]], dtype=uint8)"
            ]
          },
          "metadata": {},
          "execution_count": 8
        }
      ]
    },
    {
      "cell_type": "code",
      "source": [
        "ytrain = ytrain.reshape(-1, )\n",
        "ytrain[:5]"
      ],
      "metadata": {
        "colab": {
          "base_uri": "https://localhost:8080/"
        },
        "id": "sUTf6NmnY8ap",
        "outputId": "b71245a6-f96d-4aaa-c624-941884363b21"
      },
      "execution_count": null,
      "outputs": [
        {
          "output_type": "execute_result",
          "data": {
            "text/plain": [
              "array([6, 9, 9, 4, 1], dtype=uint8)"
            ]
          },
          "metadata": {},
          "execution_count": 10
        }
      ]
    },
    {
      "cell_type": "code",
      "source": [
        "ytest = ytest.reshape(-1, )\n",
        "ytest[:5]"
      ],
      "metadata": {
        "colab": {
          "base_uri": "https://localhost:8080/"
        },
        "id": "z7koF2e-ZIr8",
        "outputId": "6d3a7c4d-7ae7-4e19-c0b8-3dd696f9d63f"
      },
      "execution_count": null,
      "outputs": [
        {
          "output_type": "execute_result",
          "data": {
            "text/plain": [
              "array([3, 8, 8, 0, 6], dtype=uint8)"
            ]
          },
          "metadata": {},
          "execution_count": 11
        }
      ]
    },
    {
      "cell_type": "code",
      "source": [
        "classes = [\"airplane\",\"automobile\",\"bird\",\"cat\",\"deer\",\"dog\",\"frog\",\"horse\",\"ship\",\"truck\"]"
      ],
      "metadata": {
        "id": "e7J3y-vzZTE7"
      },
      "execution_count": null,
      "outputs": []
    },
    {
      "cell_type": "markdown",
      "source": [
        "Plot some images to see what they are"
      ],
      "metadata": {
        "id": "XNguirseaeCh"
      }
    },
    {
      "cell_type": "code",
      "source": [
        "def plot_img(X,y, index):\n",
        "  plt.figure(figsize = (15,2))\n",
        "  plt.imshow(X[index])\n",
        "  plt.xlabel(classes[y[index]])"
      ],
      "metadata": {
        "id": "5thliEr8ZYHr"
      },
      "execution_count": null,
      "outputs": []
    },
    {
      "cell_type": "code",
      "source": [
        "plot_img(Xtrain, ytrain, 1)"
      ],
      "metadata": {
        "colab": {
          "base_uri": "https://localhost:8080/",
          "height": 173
        },
        "id": "BuXndf3KaImS",
        "outputId": "4428cfe0-fda9-4934-8c9a-4578132a6627"
      },
      "execution_count": null,
      "outputs": [
        {
          "output_type": "display_data",
          "data": {
            "text/plain": [
              "<Figure size 1080x144 with 1 Axes>"
            ],
            "image/png": "[encoded data removed]"
          },
          "metadata": {
            "needs_background": "light"
          }
        }
      ]
    },
    {
      "cell_type": "code",
      "source": [
        "plot_img(Xtrain, ytrain, 2)"
      ],
      "metadata": {
        "id": "TanUFUlmaq1e",
        "colab": {
          "base_uri": "https://localhost:8080/",
          "height": 173
        },
        "outputId": "e3deef6c-ac2c-441f-9c18-2fc4e7d1e178"
      },
      "execution_count": null,
      "outputs": [
        {
          "output_type": "display_data",
          "data": {
            "text/plain": [
              "<Figure size 1080x144 with 1 Axes>"
            ],
            "image/png": "[encoded data removed]"
          },
          "metadata": {
            "needs_background": "light"
          }
        }
      ]
    },
    {
      "cell_type": "markdown",
      "source": [
        "Normalize the images to a number from 0 to 1. Image has 3 channels (R,G,B) and each value in the channel can range from 0 to 255. Hence to normalize in 0-->1 range, we need to divide it by 255"
      ],
      "metadata": {
        "id": "SCYGFlBbe8Ns"
      }
    },
    {
      "cell_type": "markdown",
      "source": [
        "Normalizing the data"
      ],
      "metadata": {
        "id": "huN7_zMAe98G"
      }
    },
    {
      "cell_type": "code",
      "source": [
        "Xtrain = Xtrain/ 255\n",
        "Xtest = Xtest/255"
      ],
      "metadata": {
        "id": "iSOTm8eOe2I7"
      },
      "execution_count": null,
      "outputs": []
    },
    {
      "cell_type": "markdown",
      "source": [
        "#Building  Artificial neural network for image classification"
      ],
      "metadata": {
        "id": "8ctQsqMKfSJe"
      }
    },
    {
      "cell_type": "code",
      "source": [
        "Ann = models.Sequential([layers.Flatten(input_shape = (32,32,3)),\n",
        "                        layers.Dense(3000, activation = 'relu'),\n",
        "                        layers.Dense(1000, activation = 'relu'),\n",
        "                        layers.Dense(10, activation = 'softmax')])"
      ],
      "metadata": {
        "id": "hja1IM4qfTEs"
      },
      "execution_count": null,
      "outputs": []
    },
    {
      "cell_type": "code",
      "source": [
        "Ann.compile(optimizer = 'SGD',\n",
        "            loss = 'sparse_categorical_crossentropy',\n",
        "            metrics = ['accuracy'])\n",
        "Ann.fit(Xtrain, ytrain, epochs = 5)"
      ],
      "metadata": {
        "colab": {
          "base_uri": "https://localhost:8080/"
        },
        "id": "GM8TD8pbgIhG",
        "outputId": "3c8ed773-379e-4823-d90f-f21cc7951b56"
      },
      "execution_count": null,
      "outputs": [
        {
          "output_type": "stream",
          "name": "stdout",
          "text": [
            "Epoch 1/5\n",
            "1563/1563 [==============================] - 127s 81ms/step - loss: 1.8087 - accuracy: 0.3557\n",
            "Epoch 2/5\n",
            "1563/1563 [==============================] - 146s 94ms/step - loss: 1.6214 - accuracy: 0.4280\n",
            "Epoch 3/5\n",
            "1563/1563 [==============================] - 116s 74ms/step - loss: 1.5408 - accuracy: 0.4554\n",
            "Epoch 4/5\n",
            "1563/1563 [==============================] - 116s 74ms/step - loss: 1.4817 - accuracy: 0.4767\n",
            "Epoch 5/5\n",
            "1563/1563 [==============================] - 144s 92ms/step - loss: 1.4315 - accuracy: 0.4974\n"
          ]
        },
        {
          "output_type": "execute_result",
          "data": {
            "text/plain": [
              "<keras.callbacks.History at 0x7f383a1b79a0>"
            ]
          },
          "metadata": {},
          "execution_count": 32
        }
      ]
    },
    {
      "cell_type": "markdown",
      "source": [
        "You can see that at the end of 5 epochs, accuracy is at around 49%"
      ],
      "metadata": {
        "id": "js2Gay-diedp"
      }
    },
    {
      "cell_type": "code",
      "source": [
        "from sklearn.metrics import confusion_matrix, classification_report\n",
        "import numpy as np\n",
        "ypred = Ann.predict(Xtest)\n",
        "ypred_classes = [np.argmax(element) for element in ypred]\n",
        "\n",
        "print('Classification Report \\n',classification_report(ytest, ypred_classes))"
      ],
      "metadata": {
        "colab": {
          "base_uri": "https://localhost:8080/"
        },
        "id": "_AOE9F0ygvq5",
        "outputId": "6630242d-8d1e-4741-edc4-62fdf103680b"
      },
      "execution_count": null,
      "outputs": [
        {
          "output_type": "stream",
          "name": "stdout",
          "text": [
            "313/313 [==============================] - 10s 30ms/step\n",
            "Classification Report \n",
            "               precision    recall  f1-score   support\n",
            "\n",
            "           0       0.68      0.38      0.49      1000\n",
            "           1       0.72      0.46      0.56      1000\n",
            "           2       0.40      0.24      0.30      1000\n",
            "           3       0.31      0.42      0.36      1000\n",
            "           4       0.42      0.47      0.44      1000\n",
            "           5       0.36      0.37      0.36      1000\n",
            "           6       0.45      0.64      0.53      1000\n",
            "           7       0.67      0.40      0.50      1000\n",
            "           8       0.47      0.77      0.58      1000\n",
            "           9       0.54      0.57      0.55      1000\n",
            "\n",
            "    accuracy                           0.47     10000\n",
            "   macro avg       0.50      0.47      0.47     10000\n",
            "weighted avg       0.50      0.47      0.47     10000\n",
            "\n"
          ]
        }
      ]
    },
    {
      "cell_type": "markdown",
      "source": [
        "#Now let us build a convolutional neural network to train our images"
      ],
      "metadata": {
        "id": "y-jdvz9OirWq"
      }
    },
    {
      "cell_type": "code",
      "source": [
        "Cnn = models.Sequential([layers.Conv2D(filters = 32, kernel_size = (3,3), activation = 'relu', \n",
        "                                        input_shape = (32,32,3)),layers.MaxPooling2D((2,2)),\n",
        "                         \n",
        "                         layers.Conv2D(filters = 64 , kernel_size = (3,3), activation = 'relu'),\n",
        "                         layers.MaxPooling2D((2,2)),\n",
        "\n",
        "                         layers.Flatten(),\n",
        "                         layers.Dense(64, activation = 'relu'),\n",
        "                         layers.Dense(10, activation = 'softmax')])"
      ],
      "metadata": {
        "id": "sUlv0czZitpC"
      },
      "execution_count": null,
      "outputs": []
    },
    {
      "cell_type": "code",
      "source": [
        "Cnn.compile(optimizer = 'adam', loss = 'sparse_categorical_crossentropy', metrics = ['accuracy'])"
      ],
      "metadata": {
        "id": "fei0-FpMkl_e"
      },
      "execution_count": null,
      "outputs": []
    },
    {
      "cell_type": "code",
      "source": [
        "Cnn.fit(Xtrain,ytrain, epochs = 10)"
      ],
      "metadata": {
        "colab": {
          "base_uri": "https://localhost:8080/"
        },
        "id": "_xZ3DNcnlOf5",
        "outputId": "c3c656ef-96bb-4be9-dd97-3dc98a15781f"
      },
      "execution_count": null,
      "outputs": [
        {
          "output_type": "stream",
          "name": "stdout",
          "text": [
            "Epoch 1/10\n",
            "1563/1563 [==============================] - 72s 46ms/step - loss: 1.4659 - accuracy: 0.4738\n",
            "Epoch 2/10\n",
            "1563/1563 [==============================] - 100s 64ms/step - loss: 1.1157 - accuracy: 0.6095\n",
            "Epoch 3/10\n",
            "1563/1563 [==============================] - 98s 63ms/step - loss: 0.9763 - accuracy: 0.6601\n",
            "Epoch 4/10\n",
            "1563/1563 [==============================] - 76s 49ms/step - loss: 0.8903 - accuracy: 0.6909\n",
            "Epoch 5/10\n",
            "1563/1563 [==============================] - 74s 47ms/step - loss: 0.8261 - accuracy: 0.7130\n",
            "Epoch 6/10\n",
            "1563/1563 [==============================] - 71s 46ms/step - loss: 0.7724 - accuracy: 0.7310\n",
            "Epoch 7/10\n",
            "1563/1563 [==============================] - 71s 46ms/step - loss: 0.7219 - accuracy: 0.7486\n",
            "Epoch 8/10\n",
            "1563/1563 [==============================] - 72s 46ms/step - loss: 0.6734 - accuracy: 0.7666\n",
            "Epoch 9/10\n",
            "1563/1563 [==============================] - 75s 48ms/step - loss: 0.6343 - accuracy: 0.7804\n",
            "Epoch 10/10\n",
            "1563/1563 [==============================] - 72s 46ms/step - loss: 0.5907 - accuracy: 0.7934\n"
          ]
        },
        {
          "output_type": "execute_result",
          "data": {
            "text/plain": [
              "<keras.callbacks.History at 0x7f38338180d0>"
            ]
          },
          "metadata": {},
          "execution_count": 42
        }
      ]
    },
    {
      "cell_type": "markdown",
      "source": [
        "With CNN, at the end 10 epochs, accuracy was at around 69% which is a significant improvement over ANN. CNN's are best for image classification and gives superb accuracy. Also computation is much less compared to simple ANN as maxpooling reduces the image dimensions while still preserving the features."
      ],
      "metadata": {
        "id": "OsbFCWgylokx"
      }
    },
    {
      "cell_type": "code",
      "source": [
        "Cnn.evaluate(Xtest, ytest)"
      ],
      "metadata": {
        "colab": {
          "base_uri": "https://localhost:8080/"
        },
        "id": "DxNLEY5Nls9w",
        "outputId": "5425b9a8-a0a9-4fd7-9eb3-1011a81fbf3a"
      },
      "execution_count": null,
      "outputs": [
        {
          "output_type": "stream",
          "name": "stdout",
          "text": [
            "313/313 [==============================] - 5s 14ms/step - loss: 0.9568 - accuracy: 0.6932\n"
          ]
        },
        {
          "output_type": "execute_result",
          "data": {
            "text/plain": [
              "[0.9567537903785706, 0.6931999921798706]"
            ]
          },
          "metadata": {},
          "execution_count": 43
        }
      ]
    },
    {
      "cell_type": "code",
      "source": [
        "ypred = Cnn.predict(Xtest)\n",
        "ypred[:5]"
      ],
      "metadata": {
        "colab": {
          "base_uri": "https://localhost:8080/"
        },
        "id": "4LN9EriMlzV8",
        "outputId": "42ab14c0-ceb6-4346-d482-f5af5e7aafcd"
      },
      "execution_count": null,
      "outputs": [
        {
          "output_type": "stream",
          "name": "stdout",
          "text": [
            "313/313 [==============================] - 4s 13ms/step\n"
          ]
        },
        {
          "output_type": "execute_result",
          "data": {
            "text/plain": [
              "array([[2.6785953e-03, 1.0130139e-04, 4.4353368e-05, 8.7689960e-01,\n",
              "        1.6421589e-04, 5.8818392e-02, 5.8723405e-02, 3.0899864e-05,\n",
              "        1.9904899e-03, 5.4880464e-04],\n",
              "       [2.5798390e-03, 3.0015936e-02, 8.7348144e-06, 5.8249980e-06,\n",
              "        1.1372317e-07, 4.6723843e-09, 8.3343885e-08, 2.6505720e-08,\n",
              "        9.6442980e-01, 2.9594777e-03],\n",
              "       [9.6706606e-02, 1.9194938e-01, 3.1324492e-03, 5.4175328e-03,\n",
              "        1.1377761e-03, 3.6709771e-05, 3.6758116e-05, 1.0623758e-03,\n",
              "        6.7284477e-01, 2.7675638e-02],\n",
              "       [8.9736527e-01, 2.7030561e-04, 2.5389092e-02, 1.9776849e-04,\n",
              "        4.9476983e-04, 4.9031469e-06, 1.1428150e-04, 2.2957445e-05,\n",
              "        7.5852193e-02, 2.8833409e-04],\n",
              "       [2.4367480e-06, 3.4025486e-06, 2.2559352e-03, 4.1891109e-02,\n",
              "        4.2499936e-01, 1.6492309e-02, 5.1434487e-01, 9.9481576e-06,\n",
              "        3.5276716e-07, 2.4903966e-07]], dtype=float32)"
            ]
          },
          "metadata": {},
          "execution_count": 44
        }
      ]
    },
    {
      "cell_type": "code",
      "source": [
        "y_classes = [np.argmax(element) for element in ypred]\n",
        "y_classes[:5]"
      ],
      "metadata": {
        "colab": {
          "base_uri": "https://localhost:8080/"
        },
        "id": "0n3341zfl8Sj",
        "outputId": "3b6fc702-2bc0-4c20-b508-62705a9dcde1"
      },
      "execution_count": null,
      "outputs": [
        {
          "output_type": "execute_result",
          "data": {
            "text/plain": [
              "[3, 8, 8, 0, 6]"
            ]
          },
          "metadata": {},
          "execution_count": 48
        }
      ]
    },
    {
      "cell_type": "code",
      "source": [
        "ytest[:5]"
      ],
      "metadata": {
        "colab": {
          "base_uri": "https://localhost:8080/"
        },
        "id": "TP8SnWq0mRKV",
        "outputId": "89cf17b7-d6b7-4a7a-f0cb-8501e616e3a2"
      },
      "execution_count": null,
      "outputs": [
        {
          "output_type": "execute_result",
          "data": {
            "text/plain": [
              "array([3, 8, 8, 0, 6], dtype=uint8)"
            ]
          },
          "metadata": {},
          "execution_count": 46
        }
      ]
    },
    {
      "cell_type": "code",
      "source": [
        "plot_img(Xtest, ytest, 3)"
      ],
      "metadata": {
        "colab": {
          "base_uri": "https://localhost:8080/",
          "height": 173
        },
        "id": "_Hgyy7UFmXI2",
        "outputId": "5379b8f3-6366-4b82-c4dd-a677f39e87f3"
      },
      "execution_count": null,
      "outputs": [
        {
          "output_type": "display_data",
          "data": {
            "text/plain": [
              "<Figure size 1080x144 with 1 Axes>"
            ],
            "image/png": "[encoded data removed]"
          },
          "metadata": {
            "needs_background": "light"
          }
        }
      ]
    },
    {
      "cell_type": "code",
      "source": [
        "classes[y_classes[3]]"
      ],
      "metadata": {
        "colab": {
          "base_uri": "https://localhost:8080/",
          "height": 36
        },
        "id": "49SFdan7omhO",
        "outputId": "ff9f5b0d-cd05-4262-9db3-7a8ebea56fc7"
      },
      "execution_count": null,
      "outputs": [
        {
          "output_type": "execute_result",
          "data": {
            "text/plain": [
              "'airplane'"
            ],
            "application/vnd.google.colaboratory.intrinsic+json": {
              "type": "string"
            }
          },
          "metadata": {},
          "execution_count": 49
        }
      ]
    },
    {
      "cell_type": "markdown",
      "source": [
        "For the unclear img like this the 70 % is Great."
      ],
      "metadata": {
        "id": "7ca6feAdORzj"
      }
    },
    {
      "cell_type": "code",
      "source": [
        "print('Classification Report \\n',classification_report(ytest, y_classes))"
      ],
      "metadata": {
        "colab": {
          "base_uri": "https://localhost:8080/"
        },
        "id": "I3wduxZ3pMZf",
        "outputId": "d3955c62-ca8c-42ed-e424-233c7c81e1ef"
      },
      "execution_count": null,
      "outputs": [
        {
          "output_type": "stream",
          "name": "stdout",
          "text": [
            "Classification Report \n",
            "               precision    recall  f1-score   support\n",
            "\n",
            "           0       0.75      0.71      0.73      1000\n",
            "           1       0.70      0.90      0.79      1000\n",
            "           2       0.67      0.52      0.59      1000\n",
            "           3       0.51      0.47      0.49      1000\n",
            "           4       0.68      0.63      0.65      1000\n",
            "           5       0.59      0.65      0.62      1000\n",
            "           6       0.75      0.78      0.77      1000\n",
            "           7       0.83      0.67      0.74      1000\n",
            "           8       0.72      0.85      0.78      1000\n",
            "           9       0.74      0.75      0.75      1000\n",
            "\n",
            "    accuracy                           0.69     10000\n",
            "   macro avg       0.69      0.69      0.69     10000\n",
            "weighted avg       0.69      0.69      0.69     10000\n",
            "\n"
          ]
        }
      ]
    },
    {
      "cell_type": "markdown",
      "source": [
        "Concluslion :\n",
        "* Cnn as better score than Ann\n",
        "*The accuracy of ANN is around 49%\n",
        "*The accuracy of CNN is around 69%"
      ],
      "metadata": {
        "id": "_Y5h_Pp4peZr"
      }
    }
  ]
}